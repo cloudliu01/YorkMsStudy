{
 "cells": [
  {
   "cell_type": "markdown",
   "metadata": {},
   "source": [
    "\n",
    "# Exercise one\n",
    "Write a small Numpy array by:\n",
    "\n",
    "generating 10000 random numbers in a 2-dimensional array\n",
    "for each value in the array calculate the square root\n",
    "and then sum all those calculations."
   ]
  },
  {
   "cell_type": "code",
   "execution_count": 1,
   "metadata": {},
   "outputs": [
    {
     "data": {
      "text/plain": [
       "499561"
      ]
     },
     "execution_count": 1,
     "metadata": {},
     "output_type": "execute_result"
    }
   ],
   "source": [
    "import numpy as np\n",
    "import math\n",
    "\n",
    "data = np.random.randint(100, size=(100,100) )\n",
    "np.sqrt(data)\n",
    "np.sum(data)"
   ]
  },
  {
   "cell_type": "markdown",
   "metadata": {},
   "source": [
    "\n",
    "# Exercise two\n",
    "\n",
    "Import this .csv file Preview the documentinto a program and using a NumPy array select the following data:\n",
    "\n",
    "All the data in rows, 5,7 and 9.\n",
    "All the data in columns 0, 7, 10.\n",
    "The data in columns 1 to 3 (exclusively), from rows 7 to 9 (inclusively)."
   ]
  },
  {
   "cell_type": "code",
   "execution_count": 22,
   "metadata": {},
   "outputs": [
    {
     "name": "stdout",
     "output_type": "stream",
     "text": [
      "[[ 68  54  95  65  68   6  50  63  99  81  14]\n",
      " [  5  85  83  22  39  26  73  77  97  75  33]\n",
      " [  1  46  39  53  67  19  87   3  84  58  26]\n",
      " [ 83  81  31  96  13   3  58  32 100 100  96]\n",
      " [ 71   2  63  84  85   5  67  35  76  77  76]\n",
      " [ 79  67  44 100  89  71  27  46  45  13  32]\n",
      " [100  27  23  76  53  86   2  59  30  52   2]\n",
      " [ 37  43  10  16  77  40  62   4  22  64  15]\n",
      " [ 97  61   8  99  67  42  59   7  86  42  21]\n",
      " [ 80  93  76  46  46  35  57  70  93  36  86]\n",
      " [ 25  23  89  58  89  52  21  65  52  25  45]]\n",
      "==============================\n",
      "\n",
      "All the data in rows, 5,7 and 9.\n",
      "[[ 79  67  44 100  89  71  27  46  45  13  32]\n",
      " [ 37  43  10  16  77  40  62   4  22  64  15]\n",
      " [ 80  93  76  46  46  35  57  70  93  36  86]]\n",
      "==============================\n",
      "\n",
      "All the data in columns 0, 7, 10.\n",
      "[[ 68  63  14]\n",
      " [  5  77  33]\n",
      " [  1   3  26]\n",
      " [ 83  32  96]\n",
      " [ 71  35  76]\n",
      " [ 79  46  32]\n",
      " [100  59   2]\n",
      " [ 37   4  15]\n",
      " [ 97   7  21]\n",
      " [ 80  70  86]\n",
      " [ 25  65  45]]\n",
      "==============================\n",
      "\n",
      "The data in columns 1 to 3 (exclusively), from rows 7 to 9 (inclusively).\n",
      "[[43 10]\n",
      " [61  8]\n",
      " [93 76]]\n",
      "==============================\n",
      "\n"
     ]
    }
   ],
   "source": [
    "import numpy as np\n",
    "\n",
    "data = np.genfromtxt('RandomeValues.csv', dtype='int', delimiter=',')\n",
    "print(data)\n",
    "print(\"==============================\\n\")\n",
    "print(\"All the data in rows, 5,7 and 9.\")\n",
    "print(data[[5,7,9]])\n",
    "print(\"==============================\\n\")\n",
    "\n",
    "print(\"All the data in columns 0, 7, 10.\")\n",
    "print(data[:, [0,7,10]])\n",
    "print(\"==============================\\n\")\n",
    "\n",
    "print(\"The data in columns 1 to 3 (exclusively), from rows 7 to 9 (inclusively).\")\n",
    "print(data[7:10, 1:3])\n",
    "print(\"==============================\\n\")\n"
   ]
  },
  {
   "cell_type": "markdown",
   "metadata": {},
   "source": [
    "\n",
    "# Exercise three\n",
    "Extract from .csv filePreview the document the column and row headers into two separate arrays. Then extract the data values into a separate 2D array. Using these 3 arrays extract the following data:\n",
    "\n",
    "All the sales for the second quarter (Jul-18 to Sep-18 inclusive) calculating the total and the mean for each month.\n",
    "All the sales for stores L3 and L1, for the first and third quarter calculating the total and the mean for each quarter for each store.\n",
    "All the sales for N6 and N4 that are lower than 400 and list the months in which the occur.\n",
    "\n"
   ]
  },
  {
   "cell_type": "code",
   "execution_count": 96,
   "metadata": {},
   "outputs": [
    {
     "name": "stdout",
     "output_type": "stream",
     "text": [
      "['Apr-18' 'May-18' 'Jun-18' 'Jul-18' 'Aug-18' 'Sep-18' 'Oct-18' 'Nov-18'\n",
      " 'Dec-18' 'Jan-19' 'Feb-19' 'Mar-19']\n",
      "['L3' 'L1' 'P2' 'N6' 'N4' 'B8']\n",
      "[[390 345 379 353 365 326 363 459 539 474 340 343]\n",
      " [392 377 347 395 330 332 340 446 573 464 223 216]\n",
      " [250 270 300 398 376 382 306 489 552 488 298 269]\n",
      " [460 480 450 310 392 383 314 402 640 495 215 243]\n",
      " [460 480 450 387 388 320 337 478 676 408 338 263]\n",
      " [470 510 360 472 423 385 353 464 598 419 459 659]]\n",
      "=============================================================\n",
      "All the sales for the second quarter (Jul-18 to Sep-18 inclusive) calculating the total and the mean for each month.\n",
      "Total: [2315 2274 2128]\n",
      "Mean: [385.83333333 379.         354.66666667]\n",
      "=============================================================\n",
      "All the sales for stores L3 and L1, for the first and third quartercalculating the total and the mean for each quarter for each store.\n",
      "Sum for L3, 1st quarter\n",
      "[1114]\n",
      "Sum for L1, 1st quarter\n",
      "[1116]\n",
      "Sum for L3, 3rd quarter\n",
      "[1361]\n",
      "Sum for L1, 3rd quarter\n",
      "[1359]\n",
      "Mean for L3, 1st quarter\n",
      "[371.33333333]\n",
      "Mean for L1, 1st quarter\n",
      "[372.]\n",
      "Mean for L3, 3rd quarter\n",
      "[453.66666667]\n",
      "Mean for L1, 3rd quarter\n",
      "[453.]\n"
     ]
    }
   ],
   "source": [
    "import numpy as np\n",
    "\n",
    "data = np.genfromtxt('SalesData.csv',   dtype='int', delimiter=',', skip_header=1)\n",
    "data = data[:,1:].copy()\n",
    "header = np.loadtxt(\"SalesData.csv\", delimiter = \",\", skiprows =0, usecols = range(1, 13),\n",
    "                    max_rows = 1, dtype=\"<U6\")\n",
    "index = np.loadtxt(\"SalesData.csv\", delimiter = \",\", skiprows =1, usecols = (0), dtype=\"<U6\")\n",
    "\n",
    "#np.sum(data[:,quarter], axis=0)\n",
    "\n",
    "\n",
    "\n",
    "print(header)\n",
    "print(index)\n",
    "print(data)\n",
    "\n",
    "print(\"=============================================================\")\n",
    "print(\"All the sales for the second quarter (Jul-18 to Sep-18 inclusive) calculating the total and the mean for each month.\")\n",
    "quarter = (header == 'Jul-18') |  (header == 'Aug-18') | (header == 'Sep-18')\n",
    "print(f'Total: {np.sum(data[:, quarter], axis=0)}')\n",
    "print(f'Mean: {np.mean(data[:, quarter], axis=0)}')\n",
    "\n",
    "print(\"=============================================================\")\n",
    "print(\"All the sales for stores L3 and L1, for the first and third quarter\" \n",
    "      \"calculating the total and the mean for each quarter for each store.\")\n",
    "#L3L1    = (index == 'L3') | (index == 'L1')\n",
    "#print(np.sum(data[L3L1, 0:3], axis=1))\n",
    "#print(np.sum(data[L3L1, 6:9], axis=1))\n",
    "\n",
    "print(\"Sum for L3, 1st quarter\")\n",
    "print(np.sum(data[index=='L3', 0:3], axis=1))\n",
    "print(\"Sum for L1, 1st quarter\")\n",
    "print(np.sum(data[index=='L1', 0:3], axis=1))\n",
    "print(\"Sum for L3, 3rd quarter\")\n",
    "print(np.sum(data[index=='L3', 6:9], axis=1))\n",
    "print(\"Sum for L1, 3rd quarter\")\n",
    "print(np.sum(data[index=='L1', 6:9], axis=1))\n",
    "\n",
    "\n",
    "print(\"Mean for L3, 1st quarter\")\n",
    "print(np.mean(data[index=='L3', 0:3], axis=1))\n",
    "print(\"Mean for L1, 1st quarter\")\n",
    "print(np.mean(data[index=='L1', 0:3], axis=1))\n",
    "print(\"Mean for L3, 3rd quarter\")\n",
    "print(np.mean(data[index=='L3', 6:9], axis=1))\n",
    "print(\"Mean for L1, 3rd quarter\")\n",
    "print(np.mean(data[index=='L1', 6:9], axis=1))"
   ]
  },
  {
   "cell_type": "markdown",
   "metadata": {},
   "source": [
    "# Exercise four\n",
    "\n",
    "The random walk problem can be used as an interesting investigation into probability. Consider the following:\n",
    "\n",
    "A bug lives in the middle of a long thin island where it can only move left or right. The island is 7 units (steps) long. If the bug reaches the edge of the island in either direction it will fall off and drown in the sea. The bug can only move one step in either direction. If the direction is randomly selected how many steps will it take before the bug falls off?\n",
    "Investigate ‘random walks’ and using the code in the core text as a starting point write a program to test the above scenario over 100 iterations. Collect the step count in an appropriate structure and then apply appropriate statistics to describe this data."
   ]
  },
  {
   "cell_type": "code",
   "execution_count": 24,
   "metadata": {},
   "outputs": [
    {
     "name": "stdout",
     "output_type": "stream",
     "text": [
      "Mean: 14.75985591354813\n",
      "Min: 3\n",
      "Max: 87\n",
      "Variation: 152.53788815214284\n"
     ]
    },
    {
     "data": {
      "image/png": "[encoded data removed]",
      "text/plain": [
       "<Figure size 1440x720 with 1 Axes>"
      ]
     },
     "metadata": {
      "needs_background": "light"
     },
     "output_type": "display_data"
    }
   ],
   "source": [
    "import random\n",
    "import matplotlib.pyplot as plt\n",
    "import numpy as np\n",
    "\n",
    "nsteps = 100\n",
    "nwalks = 5000\n",
    "draws = np.random.randint(0, 2, size=(nwalks, nsteps))\n",
    "steps = np.where(draws > 0, 1, -1)\n",
    "walks = steps.cumsum(1)\n",
    "#print(walks[0:5])\n",
    "falls = np.abs(walks) <= 3\n",
    "#print(falls[:5])\n",
    "rows, columns = np.where(falls == False)\n",
    "#print(rows)\n",
    "#print(columns)\n",
    "\n",
    "# To find the first index of False which indicates the bug has fallen out\n",
    "firstIndexDict = {}\n",
    "for r,c in zip(rows, columns):\n",
    "    if r not in firstIndexDict.keys():\n",
    "        firstIndexDict[r] = c\n",
    "        \n",
    "values = np.array(list(firstIndexDict.values()))\n",
    "plt.rcParams[\"figure.figsize\"] = (20,10)\n",
    "plt.hist(values, density=False, bins=100)  \n",
    "plt.ylabel('Amount of fallen bugs')\n",
    "plt.xlabel('Steps');\n",
    "\n",
    "print(f\"Mean: {np.mean(values)}\")\n",
    "print(f\"Min: {np.min(values)}\")\n",
    "print(f\"Max: {np.max(values)}\")\n",
    "print(f\"Variation: {np.var(values)}\")\n",
    "\n"
   ]
  },
  {
   "cell_type": "markdown",
   "metadata": {},
   "source": [
    "# Exercise five\n",
    "\n",
    "Investigate what sorting algorithms are used by numpy.sort() function and write a short summary (about 200words) of which you would use for datasets with particular features, such as size, and why?"
   ]
  },
  {
   "cell_type": "markdown",
   "metadata": {},
   "source": []
  }
 ],
 "metadata": {
  "kernelspec": {
   "display_name": "Python 3",
   "language": "python",
   "name": "python3"
  },
  "language_info": {
   "codemirror_mode": {
    "name": "ipython",
    "version": 3
   },
   "file_extension": ".py",
   "mimetype": "text/x-python",
   "name": "python",
   "nbconvert_exporter": "python",
   "pygments_lexer": "ipython3",
   "version": "3.7.6"
  }
 },
 "nbformat": 4,
 "nbformat_minor": 4
}
