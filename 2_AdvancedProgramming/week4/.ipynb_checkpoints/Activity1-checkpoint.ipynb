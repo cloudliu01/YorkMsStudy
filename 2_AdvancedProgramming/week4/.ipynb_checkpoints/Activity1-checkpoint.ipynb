{
 "cells": [
  {
   "cell_type": "markdown",
   "metadata": {},
   "source": [
    "\n",
    "# Exercise one\n",
    "Write a small Numpy array by:\n",
    "\n",
    "generating 10000 random numbers in a 2-dimensional array\n",
    "for each value in the array calculate the square root\n",
    "and then sum all those calculations."
   ]
  },
  {
   "cell_type": "code",
   "execution_count": 1,
   "metadata": {},
   "outputs": [
    {
     "data": {
      "text/plain": [
       "499561"
      ]
     },
     "execution_count": 1,
     "metadata": {},
     "output_type": "execute_result"
    }
   ],
   "source": [
    "import numpy as np\n",
    "import math\n",
    "\n",
    "data = np.random.randint(100, size=(100,100) )\n",
    "np.sqrt(data)\n",
    "np.sum(data)"
   ]
  },
  {
   "cell_type": "markdown",
   "metadata": {},
   "source": [
    "\n",
    "# Exercise two\n",
    "\n",
    "Import this .csv file Preview the documentinto a program and using a NumPy array select the following data:\n",
    "\n",
    "All the data in rows, 5,7 and 9.\n",
    "All the data in columns 0, 7, 10.\n",
    "The data in columns 1 to 3 (exclusively), from rows 7 to 9 (inclusively)."
   ]
  },
  {
   "cell_type": "code",
   "execution_count": 22,
   "metadata": {},
   "outputs": [
    {
     "name": "stdout",
     "output_type": "stream",
     "text": [
      "[[ 68  54  95  65  68   6  50  63  99  81  14]\n",
      " [  5  85  83  22  39  26  73  77  97  75  33]\n",
      " [  1  46  39  53  67  19  87   3  84  58  26]\n",
      " [ 83  81  31  96  13   3  58  32 100 100  96]\n",
      " [ 71   2  63  84  85   5  67  35  76  77  76]\n",
      " [ 79  67  44 100  89  71  27  46  45  13  32]\n",
      " [100  27  23  76  53  86   2  59  30  52   2]\n",
      " [ 37  43  10  16  77  40  62   4  22  64  15]\n",
      " [ 97  61   8  99  67  42  59   7  86  42  21]\n",
      " [ 80  93  76  46  46  35  57  70  93  36  86]\n",
      " [ 25  23  89  58  89  52  21  65  52  25  45]]\n",
      "==============================\n",
      "\n",
      "All the data in rows, 5,7 and 9.\n",
      "[[ 79  67  44 100  89  71  27  46  45  13  32]\n",
      " [ 37  43  10  16  77  40  62   4  22  64  15]\n",
      " [ 80  93  76  46  46  35  57  70  93  36  86]]\n",
      "==============================\n",
      "\n",
      "All the data in columns 0, 7, 10.\n",
      "[[ 68  63  14]\n",
      " [  5  77  33]\n",
      " [  1   3  26]\n",
      " [ 83  32  96]\n",
      " [ 71  35  76]\n",
      " [ 79  46  32]\n",
      " [100  59   2]\n",
      " [ 37   4  15]\n",
      " [ 97   7  21]\n",
      " [ 80  70  86]\n",
      " [ 25  65  45]]\n",
      "==============================\n",
      "\n",
      "The data in columns 1 to 3 (exclusively), from rows 7 to 9 (inclusively).\n",
      "[[43 10]\n",
      " [61  8]\n",
      " [93 76]]\n",
      "==============================\n",
      "\n"
     ]
    }
   ],
   "source": [
    "import numpy as np\n",
    "\n",
    "data = np.genfromtxt('RandomeValues.csv', dtype='int', delimiter=',')\n",
    "print(data)\n",
    "print(\"==============================\\n\")\n",
    "print(\"All the data in rows, 5,7 and 9.\")\n",
    "print(data[[5,7,9]])\n",
    "print(\"==============================\\n\")\n",
    "\n",
    "print(\"All the data in columns 0, 7, 10.\")\n",
    "print(data[:, [0,7,10]])\n",
    "print(\"==============================\\n\")\n",
    "\n",
    "print(\"The data in columns 1 to 3 (exclusively), from rows 7 to 9 (inclusively).\")\n",
    "print(data[7:10, 1:3])\n",
    "print(\"==============================\\n\")\n"
   ]
  },
  {
   "cell_type": "markdown",
   "metadata": {},
   "source": [
    "\n",
    "# Exercise three\n",
    "Extract from .csv filePreview the document the column and row headers into two separate arrays. Then extract the data values into a separate 2D array. Using these 3 arrays extract the following data:\n",
    "\n",
    "All the sales for the second quarter (Jul-18 to Sep-18 inclusive) calculating the total and the mean for each month.\n",
    "All the sales for stores L3 and L1, for the first and third quarter calculating the total and the mean for each quarter for each store.\n",
    "All the sales for N6 and N4 that are lower than 400 and list the months in which the occur.\n",
    "\n"
   ]
  },
  {
   "cell_type": "code",
   "execution_count": 96,
   "metadata": {},
   "outputs": [
    {
     "name": "stdout",
     "output_type": "stream",
     "text": [
      "['Apr-18' 'May-18' 'Jun-18' 'Jul-18' 'Aug-18' 'Sep-18' 'Oct-18' 'Nov-18'\n",
      " 'Dec-18' 'Jan-19' 'Feb-19' 'Mar-19']\n",
      "['L3' 'L1' 'P2' 'N6' 'N4' 'B8']\n",
      "[[390 345 379 353 365 326 363 459 539 474 340 343]\n",
      " [392 377 347 395 330 332 340 446 573 464 223 216]\n",
      " [250 270 300 398 376 382 306 489 552 488 298 269]\n",
      " [460 480 450 310 392 383 314 402 640 495 215 243]\n",
      " [460 480 450 387 388 320 337 478 676 408 338 263]\n",
      " [470 510 360 472 423 385 353 464 598 419 459 659]]\n",
      "=============================================================\n",
      "All the sales for the second quarter (Jul-18 to Sep-18 inclusive) calculating the total and the mean for each month.\n",
      "Total: [2315 2274 2128]\n",
      "Mean: [385.83333333 379.         354.66666667]\n",
      "=============================================================\n",
      "All the sales for stores L3 and L1, for the first and third quartercalculating the total and the mean for each quarter for each store.\n",
      "Sum for L3, 1st quarter\n",
      "[1114]\n",
      "Sum for L1, 1st quarter\n",
      "[1116]\n",
      "Sum for L3, 3rd quarter\n",
      "[1361]\n",
      "Sum for L1, 3rd quarter\n",
      "[1359]\n",
      "Mean for L3, 1st quarter\n",
      "[371.33333333]\n",
      "Mean for L1, 1st quarter\n",
      "[372.]\n",
      "Mean for L3, 3rd quarter\n",
      "[453.66666667]\n",
      "Mean for L1, 3rd quarter\n",
      "[453.]\n"
     ]
    }
   ],
   "source": [
    "import numpy as np\n",
    "\n",
    "data = np.genfromtxt('SalesData.csv',   dtype='int', delimiter=',', skip_header=1)\n",
    "data = data[:,1:].copy()\n",
    "header = np.loadtxt(\"SalesData.csv\", delimiter = \",\", skiprows =0, usecols = range(1, 13),\n",
    "                    max_rows = 1, dtype=\"<U6\")\n",
    "index = np.loadtxt(\"SalesData.csv\", delimiter = \",\", skiprows =1, usecols = (0), dtype=\"<U6\")\n",
    "\n",
    "#np.sum(data[:,quarter], axis=0)\n",
    "\n",
    "\n",
    "\n",
    "print(header)\n",
    "print(index)\n",
    "print(data)\n",
    "\n",
    "print(\"=============================================================\")\n",
    "print(\"All the sales for the second quarter (Jul-18 to Sep-18 inclusive) calculating the total and the mean for each month.\")\n",
    "quarter = (header == 'Jul-18') |  (header == 'Aug-18') | (header == 'Sep-18')\n",
    "print(f'Total: {np.sum(data[:, quarter], axis=0)}')\n",
    "print(f'Mean: {np.mean(data[:, quarter], axis=0)}')\n",
    "\n",
    "print(\"=============================================================\")\n",
    "print(\"All the sales for stores L3 and L1, for the first and third quarter\" \n",
    "      \"calculating the total and the mean for each quarter for each store.\")\n",
    "#L3L1    = (index == 'L3') | (index == 'L1')\n",
    "#print(np.sum(data[L3L1, 0:3], axis=1))\n",
    "#print(np.sum(data[L3L1, 6:9], axis=1))\n",
    "\n",
    "print(\"Sum for L3, 1st quarter\")\n",
    "print(np.sum(data[index=='L3', 0:3], axis=1))\n",
    "print(\"Sum for L1, 1st quarter\")\n",
    "print(np.sum(data[index=='L1', 0:3], axis=1))\n",
    "print(\"Sum for L3, 3rd quarter\")\n",
    "print(np.sum(data[index=='L3', 6:9], axis=1))\n",
    "print(\"Sum for L1, 3rd quarter\")\n",
    "print(np.sum(data[index=='L1', 6:9], axis=1))\n",
    "\n",
    "\n",
    "print(\"Mean for L3, 1st quarter\")\n",
    "print(np.mean(data[index=='L3', 0:3], axis=1))\n",
    "print(\"Mean for L1, 1st quarter\")\n",
    "print(np.mean(data[index=='L1', 0:3], axis=1))\n",
    "print(\"Mean for L3, 3rd quarter\")\n",
    "print(np.mean(data[index=='L3', 6:9], axis=1))\n",
    "print(\"Mean for L1, 3rd quarter\")\n",
    "print(np.mean(data[index=='L1', 6:9], axis=1))"
   ]
  },
  {
   "cell_type": "markdown",
   "metadata": {},
   "source": [
    "# Exercise four\n",
    "\n",
    "The random walk problem can be used as an interesting investigation into probability. Consider the following:\n",
    "\n",
    "A bug lives in the middle of a long thin island where it can only move left or right. The island is 7 units (steps) long. If the bug reaches the edge of the island in either direction it will fall off and drown in the sea. The bug can only move one step in either direction. If the direction is randomly selected how many steps will it take before the bug falls off?\n",
    "Investigate ‘random walks’ and using the code in the core text as a starting point write a program to test the above scenario over 100 iterations. Collect the step count in an appropriate structure and then apply appropriate statistics to describe this data."
   ]
  },
  {
   "cell_type": "code",
   "execution_count": 194,
   "metadata": {},
   "outputs": [
    {
     "name": "stdout",
     "output_type": "stream",
     "text": [
      "dict_values([21, 3, 5, 37, 7, 25, 15, 3, 21, 3, 11, 9, 17, 15, 39, 13, 3, 11, 5, 33, 3, 9, 13, 15, 13, 47, 11, 13, 9, 15, 3, 5, 17, 19, 13, 13, 9, 11, 59, 7, 33, 17, 11, 9, 3, 37, 5, 13, 3, 11, 3, 29, 23, 11, 7, 19, 9, 57, 5, 7, 9, 7, 57, 5, 21, 19, 7, 33, 7, 11, 15, 7, 5, 9, 13, 5, 11, 3, 11, 3, 13, 3, 27, 37, 11, 5, 9, 9, 7, 5, 15, 17, 45, 15, 21, 3, 25, 3, 5, 3, 13, 31, 17, 3, 21, 15, 3, 9, 83, 9, 13, 3, 29, 7, 5, 29, 17, 7, 9, 9, 7, 13, 9, 35, 21, 31, 19, 5, 31, 33, 7, 35, 17, 5, 35, 7, 5, 9, 5, 7, 5, 5, 9, 9, 23, 11, 21, 23, 11, 11, 17, 13, 25, 15, 43, 25, 15, 11, 13, 7, 3, 5, 13, 7, 5, 17, 3, 11, 15, 7, 9, 5, 13, 41, 5, 13, 5, 3, 3, 5, 25, 5, 39, 11, 19, 3, 51, 19, 33, 13, 15, 13, 49, 9, 7, 15, 17, 71, 3, 55, 21, 13, 15, 9, 23, 13, 7, 7, 13, 5, 11, 9, 25, 3, 9, 19, 5, 7, 13, 37, 9, 9, 7, 3, 23, 21, 35, 3, 7, 41, 29, 17, 9, 33, 19, 15, 33, 29, 37, 9, 21, 35, 15, 21, 7, 5, 23, 15, 9, 3, 9, 9, 5, 15, 15, 11, 3, 47, 3, 9, 9, 5, 31, 5, 5, 21, 17, 9, 29, 5, 39, 11, 29, 7, 13, 3, 3, 5, 11, 17, 11, 11, 11, 5, 45, 5, 5, 35, 27, 35, 19, 11, 19, 29, 17, 27, 39, 15, 27, 15, 19, 5, 39, 17, 3, 9, 75, 15, 33, 13, 27, 3, 13, 27, 7, 5, 19, 7, 9, 7, 29, 5, 3, 3, 35, 25, 11, 9, 3, 19, 7, 5, 3, 31, 11, 9, 23, 5, 21, 5, 9, 17, 13, 5, 17, 3, 19, 5, 5, 7, 17, 31, 5, 5, 53, 15, 43, 17, 5, 49, 15, 25, 13, 5, 3, 15, 9, 5, 17, 9, 9, 7, 13, 5, 9, 33, 15, 7, 7, 5, 31, 35, 15, 7, 9, 3, 13, 5, 9, 15, 7, 31, 5, 23, 9, 27, 19, 5, 3, 13, 23, 9, 15, 13, 11, 7, 13, 19, 3, 9, 17, 9, 3, 3, 15, 13, 17, 7, 27, 5, 11, 3, 5, 11, 7, 25, 3, 9, 9, 33, 9, 9, 23, 17, 9, 19, 5, 3, 3, 31, 3, 9, 9, 5, 17, 17, 7, 9, 19, 21, 27, 3, 3, 5, 41, 9, 7, 29, 13, 15, 5, 29, 7, 9, 41, 3, 13, 13, 3, 5, 17, 9, 11, 5, 5, 13, 9, 9, 17, 25, 7, 3, 7, 3, 79, 21, 15, 5, 7, 35, 25, 7, 7, 13, 17, 39, 7, 13, 5, 11, 11, 21, 49, 5, 15, 3, 9, 11, 9, 41, 5, 3, 41, 3, 11, 35, 11, 13, 5, 21, 21, 15, 11, 15, 15, 21, 9, 7, 11, 35, 17, 7, 15, 61, 13, 25, 5, 5, 39, 5, 7, 9, 13, 17, 9, 9, 39, 11, 19, 7, 5, 29, 9, 21, 19, 37, 21, 7, 7, 5, 5, 3, 15, 9, 27, 5, 7, 11, 11, 5, 19, 7, 13, 9, 5, 5, 5, 9, 3, 11, 35, 9, 9, 55, 9, 17, 7, 27, 7, 15, 19, 9, 5, 21, 5, 17, 13, 9, 31, 7, 21, 11, 43, 11, 21, 17, 35, 7, 7, 17, 23, 7, 23, 11, 5, 9, 15, 3, 23, 13, 19, 5, 13, 9, 5, 5, 9, 5, 41, 15, 15, 5, 41, 27, 5, 11, 5, 19, 11, 3, 23, 27, 11, 27, 5, 9, 17, 25, 11, 25, 19, 17, 25, 15, 13, 21, 7, 13, 19, 3, 15, 7, 31, 3, 23, 17, 5, 3, 19, 9, 13, 9, 27, 11, 21, 5, 47, 5, 15, 9, 13, 13, 5, 3, 25, 41, 17, 19, 3, 13, 9, 57, 11, 21, 9, 3, 35, 7, 3, 3, 7, 7, 21, 17, 5, 41, 29, 5, 5, 5, 15, 3, 3, 17, 17, 21, 7, 15, 35, 5, 7, 5, 15, 3, 15, 5, 7, 15, 27, 7, 7, 9, 15, 7, 23, 15, 11, 7, 3, 17, 5, 11, 3, 13, 5, 15, 19, 49, 5, 17, 5, 11, 11, 23, 9, 9, 11, 23, 5, 15, 39, 31, 3, 9, 3, 3, 25, 35, 3, 57, 5, 13, 47, 11, 3, 9, 23, 9, 3, 23, 5, 23, 3, 37, 5, 39, 3, 9, 9, 35, 5, 5, 5, 11, 5, 25, 9, 11, 9, 21, 5, 5, 3, 7, 17, 3, 9, 25, 9, 5, 7, 17, 27, 3, 49, 13, 39, 3, 3, 39, 9, 27, 3, 3, 3, 5, 11, 27, 3, 11, 5, 23, 9, 3, 71, 13, 13, 3, 17, 5, 15, 7, 9, 3, 35, 21, 17, 9, 35, 3, 5, 19, 5, 15, 9, 11, 13, 3, 19, 43, 43, 13, 13, 11, 3, 33, 9, 3, 15, 3, 11, 3, 7, 3, 5, 3, 13, 5, 17, 23, 19, 39, 13, 9, 9, 21, 39, 7, 7, 15, 5, 17, 7, 53, 7, 9, 17, 7, 11, 9, 27, 5, 13, 15, 39, 17, 13, 23, 3, 23, 27, 21, 21, 17, 5, 5, 33, 7, 9, 7, 3, 13, 9, 13, 23, 5, 23, 11, 7, 7, 11, 3, 9, 5, 27, 11, 3, 5, 3, 21, 37, 5, 5, 21, 11, 15, 33, 15, 5, 7, 13, 59, 13, 7, 7, 3, 5, 21, 5, 9, 9, 9, 7, 9, 17, 5, 7, 5, 13, 7, 5, 41, 21, 15, 13, 9, 3, 15, 5, 7, 11, 17, 7, 11, 13, 7, 7, 15, 5, 13, 9, 7, 5, 7, 19, 23, 5, 7, 23, 11, 7, 15, 11, 7, 3, 11, 17, 27, 25, 5, 47, 69, 9, 3, 13, 21, 9, 17, 21, 7, 11, 13, 11, 13, 33, 3, 15, 7, 25, 7, 25, 15, 9, 11, 3, 15, 19, 3, 41, 31, 9, 21, 15, 11, 27, 3, 7, 21, 5, 39, 5, 5, 13, 7, 63, 3, 3, 9, 9, 31, 15, 7, 33, 15, 3, 17, 15, 7, 23, 23, 3, 5, 7, 27, 3, 7, 15, 9, 19, 7, 21, 5, 13, 5, 5, 3, 19, 23, 11, 3, 39, 29, 5, 43, 5, 53, 45, 3, 9, 5, 7, 17, 11, 53, 37, 19, 21, 3, 7, 5, 9, 9, 9, 65, 7, 9, 23, 17, 19, 5, 11, 27, 25, 51, 9, 5, 25, 19, 39, 13, 41, 7, 3, 17, 5, 19, 15, 11, 3, 5, 27, 19, 27, 25, 31, 99, 5, 15, 7, 7, 15, 23, 3, 13, 3, 23, 19, 23, 3, 21, 5, 13, 11, 17, 15, 5, 15, 3, 3, 25, 11, 7, 9, 11, 3, 11, 3, 5, 5, 9, 31, 13, 19, 5, 15, 7, 29, 9, 25, 7, 31, 31, 45, 15, 21, 7, 9, 3, 15, 35, 3, 15, 5, 11, 15, 11, 3, 13, 27, 9, 3, 57, 11, 13, 9, 3, 19, 15, 11, 5, 3, 27, 35, 19, 7, 7, 3, 53, 9, 15, 39, 25, 43, 15, 11, 21, 43, 11, 21, 19, 13, 9, 5, 9, 13, 49, 3, 13, 71, 23, 21, 5, 7, 23, 17, 19, 27, 5, 7, 11, 11, 9, 9, 21, 9, 7, 3, 9, 31, 5, 27, 19, 3, 11, 3, 3, 19, 13, 11, 13, 27, 51, 7, 11, 3, 21, 25, 7, 9, 3, 11, 23, 11, 23, 17, 7, 9, 11, 7, 35, 5, 7, 7, 11, 31, 9, 13, 3, 9, 27, 7, 5, 5, 5, 17, 13, 23, 3, 3, 3, 27, 15, 17, 29, 9, 35, 5, 3, 19, 13, 17, 3, 19, 13, 19, 35, 3, 25, 3, 41, 5, 13, 5, 3, 21, 19, 3, 7, 67, 7, 3, 11, 7, 23, 17, 3, 13, 5, 27, 15, 13, 7, 9, 23, 5, 17, 7, 5, 15, 13, 57, 27, 13, 5, 11, 11, 19, 25, 7, 11, 5, 13, 23, 3, 9, 15, 91, 7, 5, 7, 11, 5, 3, 5, 23, 5, 17, 21, 21, 5, 3, 7, 17, 5, 7, 3, 21, 3, 7, 19, 9, 5, 9, 5, 19, 13, 5, 15, 9, 9, 3, 15, 9, 3, 23, 17, 45, 5, 11, 5, 5, 21, 27, 21, 9, 23, 17, 15, 9, 11, 51, 11, 3, 3, 29, 13, 7, 3, 3, 5, 9, 21, 3, 7, 13, 13, 31, 9, 35, 5, 7, 15, 7, 11, 5, 5, 21, 13, 19, 15, 7, 17, 11, 7, 13, 19, 27, 3, 7, 53, 15, 11, 11, 5, 11, 7, 53, 33, 3, 25, 5, 19, 21, 5, 3, 7, 13, 3, 7, 9, 11, 5, 15, 9, 33, 9, 7, 3, 3, 13, 3, 15, 13, 11, 13, 5, 13, 31, 11, 9, 11, 7, 5, 7, 11, 17, 19, 9, 47, 31, 5, 7, 9, 33, 5, 21, 7, 11, 5, 7, 5, 9, 11, 13, 9, 3, 13, 39, 15, 15, 7, 7, 5, 37, 31, 11, 9, 9, 7, 9, 19, 3, 3, 25, 29, 17, 9, 29, 5, 31, 7, 3, 13, 5, 7, 9, 23, 9, 3, 7, 27, 37, 9, 21, 11, 5, 23, 3, 3, 17, 7, 11, 19, 5, 11, 17, 25, 11, 37, 9, 5, 21, 7, 9, 15, 9, 5, 33, 15, 23, 23, 9, 5, 17, 3, 9, 5, 5, 11, 23, 5, 35, 11, 5, 21, 7, 19, 13, 13, 7, 5, 21, 23, 9, 15, 3, 13, 35, 21, 3, 21, 13, 51, 5, 15, 13, 3, 21, 5, 29, 29, 25, 9, 15, 15, 21, 5, 19, 23, 15, 7, 25, 7, 23, 17, 5, 7, 7, 7, 9, 3, 35, 3, 3, 9, 19, 17, 27, 19, 9, 13, 13, 9, 15, 11, 31, 7, 5, 3, 7, 5, 15, 27, 5, 13, 11, 23, 3, 13, 7, 15, 23, 39, 15, 3, 3, 7, 7, 11, 9, 65, 13, 21, 3, 5, 5, 5, 9, 25, 13, 5, 15, 19, 27, 9, 15, 13, 9, 11, 37, 13, 23, 21, 19, 7, 3, 7, 19, 23, 5, 9, 13, 29, 45, 5, 33, 21, 7, 7, 9, 13, 23, 13, 13, 9, 43, 15, 3, 11, 7, 13, 7, 3, 19, 11, 7, 15, 7, 7, 15, 13, 41, 17, 15, 5, 11, 5, 5, 9, 15, 13, 9, 5, 21, 11, 3, 9, 5, 3, 13, 5, 3, 3, 31, 17, 13, 9, 37, 3, 51, 3, 11, 11, 13, 7, 3, 31, 27, 5, 3, 3, 25, 13, 11, 5, 9, 9, 7, 3, 3, 3, 29, 5, 7, 29, 21, 21, 13, 29, 13, 21, 5, 25, 5, 15, 41, 19, 7, 27, 41, 23, 63, 11, 3, 3, 45, 19, 5, 13, 33, 11, 9, 13, 7, 5, 13, 55, 11, 77, 21, 7, 21, 19, 13, 3, 15, 5, 37, 9, 17, 23, 23, 21, 25, 11, 9, 7, 19, 7, 25, 5, 35, 9, 29, 17, 11, 13, 11, 23, 7, 9, 39, 27, 11, 5, 7, 13, 7, 25, 9, 3, 13, 31, 23, 5, 9, 13, 5, 5, 15, 27, 5, 31, 17, 29, 7, 11, 11, 11, 9, 7, 17, 7, 29, 19, 7, 9, 15, 27, 13, 21, 31, 11, 5, 11, 3, 17, 5, 9, 17, 11, 41, 7, 11, 39, 7, 29, 7, 5, 11, 19, 55, 3, 9, 7, 7, 9, 25, 15, 23, 25, 39, 33, 5, 3, 29, 3, 21, 57, 5, 9, 5, 9, 15, 5, 5, 3, 11, 13, 5, 7, 19, 35, 3, 17, 17, 29, 23, 11, 3, 29, 31, 15, 9, 9, 35, 33, 23, 23, 3, 5, 15, 33, 11, 11, 7, 7, 7, 7, 23, 15, 15, 5, 3, 7, 17, 17, 15, 21, 5, 25, 11, 7, 11, 11, 19, 31, 59, 33, 7, 11, 69, 7, 11, 9, 23, 5, 5, 19, 3, 11, 27, 27, 23, 7, 7, 13, 19, 13, 7, 7, 7, 41, 15, 13, 23, 7, 3, 3, 3, 3, 9, 15, 7, 37, 11, 39, 3, 7, 11, 23, 5, 17, 9, 13, 21, 3, 15, 13, 15, 33, 9, 3, 33, 7, 9, 7, 19, 5, 65, 3, 3, 5, 17, 11, 39, 13, 27, 5, 5, 13, 23, 7, 15, 3, 5, 5, 19, 7, 37, 19, 7, 37, 21, 3, 21, 7, 3, 5, 21, 41, 9, 5, 21, 13, 5, 5, 5, 25, 21, 17, 51, 3, 7, 7, 23, 9, 9, 19, 25, 5, 19, 5, 7, 21, 67, 19, 49, 7, 9, 27, 3, 5, 5, 7, 13, 7, 3, 5, 13, 41, 13, 17, 3, 63, 5, 13, 57, 21, 39, 11, 15, 11, 7, 17, 21, 9, 5, 9, 3, 7, 21, 61, 5, 11, 13, 27, 21, 41, 13, 5, 15, 35, 3, 5, 7, 5, 9, 5, 7, 5, 37, 19, 15, 7, 19, 7, 21, 11, 13, 27, 9, 7, 5, 3, 9, 3, 21, 19, 7, 7, 29, 51, 29, 11, 17, 5, 39, 5, 3, 9, 7, 31, 3, 11, 5, 11, 11, 7, 25, 23, 5, 35, 3, 45, 11, 5, 17, 13, 7, 5, 15, 21, 25, 21, 3, 5, 11, 15, 11, 7, 21, 7, 33, 11, 7, 13, 7, 13, 17, 7, 7, 19, 3, 3, 3, 11, 27, 3, 19, 15, 5, 11, 13, 3, 19, 43, 13, 11, 21, 37, 7, 11, 21, 35, 3, 33, 5, 21, 21, 3, 7, 7, 3, 15, 5, 11, 7, 35, 7, 11, 11, 13, 3, 11, 9, 3, 55, 69, 15, 19, 5, 3, 39, 9, 3, 7, 19, 7, 17, 9, 5, 7, 17, 3, 3, 13, 11, 3, 11, 5, 11, 7, 7, 5, 15, 5, 3, 3, 9, 29, 5, 3, 9, 3, 15, 15, 9, 5, 3, 13, 19, 9, 33, 13, 5, 45, 3, 11, 7, 13, 13, 3, 11, 17, 9, 17, 3, 13, 7, 7, 13, 5, 9, 7, 7, 3, 7, 3, 13, 25, 5, 33, 17, 5, 25, 5, 3, 43, 25, 51, 31, 3, 11, 37, 5, 3, 3, 33, 9, 29, 21, 19, 15, 3, 13, 21, 13, 9, 3, 11, 3, 15, 11, 19, 29, 19, 21, 31, 9, 3, 5, 43, 7, 29, 35, 5, 3, 45, 21, 9, 3, 7, 29, 13, 17, 33, 15, 3, 33, 11, 5, 3, 17, 33, 15, 5, 17, 11, 15, 9, 21, 21, 5, 31, 25, 9, 43, 3, 13, 3, 21, 25, 7, 15, 31, 11, 13, 13, 19, 7, 23, 21, 23, 7, 9, 5, 13, 47, 25, 9, 57, 5, 9, 33, 7, 3, 5, 9, 9, 23, 13, 9, 31, 15, 13, 39, 11, 9, 5, 9, 21, 15, 5, 17, 35, 11, 9, 9, 11, 15, 11, 17, 5, 13, 13, 11, 31, 7, 15, 3, 23, 5, 5, 3, 37, 13, 3, 19, 21, 19, 23, 15, 11, 3, 31, 7, 5, 29, 7, 37, 13, 9, 3, 17, 5, 31, 27, 19, 11, 11, 5, 11, 13, 23, 29, 33, 21, 3, 73, 5, 7, 17, 5, 39, 3, 31, 3, 15, 5, 7, 27, 13, 7, 13, 5, 3, 3, 47, 5, 15, 17, 3, 5, 11, 23, 11, 9, 13, 17, 25, 5, 3, 19, 15, 53, 37, 11, 31, 5, 3, 7, 9, 39, 7, 5, 3, 3, 21, 5, 27, 17, 7, 5, 17, 25, 3, 27, 59, 5, 9, 3, 15, 7, 21, 7, 33, 5, 5, 5, 7, 33, 9, 15, 15, 45, 19, 3, 27, 25, 49, 7, 21, 29, 39, 5, 41, 11, 21, 11, 13, 5, 15, 11, 13, 13, 25, 19, 9, 13, 47, 3, 3, 3, 9, 7, 17, 7, 7, 65, 15, 23, 7, 5, 15, 3, 3, 17, 15, 11, 53, 3, 39, 61, 5, 9, 17, 3, 15, 63, 31, 13, 9, 19, 5, 9, 7, 15, 19, 5, 29, 11, 19, 7, 13, 5, 5, 25, 19, 11, 11, 11, 3, 33, 13, 7, 45, 11, 23, 11, 15, 35, 11, 5, 27, 41, 5, 25, 7, 7, 11, 5, 11, 19, 3, 33, 19, 19, 19, 43, 41, 3, 21, 11, 7, 31, 25, 47, 27, 13, 19, 27, 23, 17, 19, 3, 13, 19, 7, 19, 23, 5, 5, 3, 7, 7, 11, 3, 5, 5, 37, 5, 9, 5, 9, 7, 5, 3, 69, 19, 5, 19, 27, 59, 3, 25, 5, 7, 25, 5, 5, 7, 5, 5, 7, 9, 21, 3, 5, 9, 3, 17, 9, 3, 21, 7, 23, 7, 17, 11, 11, 3, 5, 15, 7, 29, 23, 21, 15, 7, 17, 19, 25, 7, 13, 9, 45, 7, 5, 31, 15, 7, 19, 5, 35, 19, 43, 21, 3, 3, 3, 17, 7, 43, 3, 9, 9, 3, 17, 9, 13, 3, 7, 7, 33, 21, 11, 7, 25, 19, 11, 9, 21, 5, 11, 31, 15, 7, 9, 7, 23, 3, 13, 13, 13, 7, 23, 3, 17, 5, 7, 7, 11, 15, 3, 9, 29, 13, 3, 13, 51, 29, 11, 39, 13, 47, 11, 15, 51, 9, 9, 13, 11, 7, 11, 19, 17, 5, 5, 11, 25, 39, 11, 7, 3, 3, 17, 3, 11, 21, 9, 9, 13, 7, 59, 9, 21, 23, 17, 11, 13, 5, 13, 43, 27, 9, 3, 19, 5, 3, 33, 9, 9, 15, 13, 11, 7, 5, 11, 5, 31, 11, 19, 3, 25, 5, 11, 13, 3, 3, 9, 7, 9, 3, 11, 11, 9, 17, 11, 19, 7, 7, 5, 15, 13, 3, 19, 35, 11, 5, 23, 47, 27, 7, 17, 11, 21, 13, 3, 37, 15, 11, 15, 7, 21, 27, 5, 21, 3, 13, 23, 5, 7, 3, 5, 13, 15, 25, 3, 9, 7, 33, 11, 7, 81, 11, 11, 9, 11, 7, 29, 7, 17, 11, 7, 21, 13, 5, 3, 7, 15, 3, 33, 19, 15, 15, 25, 11, 3, 9, 3, 19, 23, 13, 31, 5, 21, 5, 21, 7, 25, 3, 7, 5, 3, 3, 3, 9, 47, 15, 13, 7, 3, 7, 13, 7, 3, 3, 9, 3, 3, 27, 13, 33, 13, 69, 9, 11, 11, 5, 7, 17, 17, 9, 3, 13, 3, 5, 11, 7, 15, 13, 3, 31, 9, 15, 5, 11, 29, 7, 3, 23, 5, 7, 5, 3, 33, 21, 11, 29, 31, 15, 21, 15, 13, 5, 5, 35, 13, 11, 21, 27, 5, 21, 11, 5, 3, 7, 5, 17, 27, 7, 15, 5, 35, 9, 5, 21, 5, 11, 5, 29, 3, 5, 17, 11, 3, 57, 5, 19, 9, 33, 3, 13, 17, 13, 3, 7, 17, 3, 9, 3, 23, 17, 9, 9, 25, 5, 7, 39, 65, 49, 15, 39, 51, 5, 21, 3, 3, 5, 37, 15, 17, 3, 41, 9, 15, 25, 69, 13, 3, 49, 7, 7, 15, 3, 7, 9, 53, 23, 21, 5, 19, 7, 19, 7, 3, 9, 5, 7, 31, 9, 7, 35, 5, 31, 7, 19, 11, 37, 21, 5, 5, 9, 41, 13, 5, 23, 27, 9, 7, 13, 17, 9, 29, 29, 15, 15, 15, 27, 35, 7, 27, 9, 13, 27, 43, 5, 5, 3, 13, 9, 21, 9, 9, 13, 5, 3, 23, 11, 5, 31, 33, 11, 37, 3, 27, 5, 5, 21, 21, 31, 17, 43, 27, 17, 23, 9, 27, 9, 19, 7, 5, 9, 11, 13, 19, 21, 7, 9, 75, 9, 11, 15, 39, 5, 43, 29, 33, 9, 17, 21, 3, 7, 7, 11, 11, 5, 11, 21, 21, 11, 21, 19, 19, 3, 3, 5, 13, 31, 31, 15, 19, 11, 33, 9, 27, 5, 41, 11, 3, 3, 17, 3, 5, 15, 15, 19, 19, 3, 3, 25, 17, 15, 5, 27, 5, 17, 21, 7, 17, 15, 9, 5, 7, 27, 3, 7, 19, 21, 17, 13, 3, 5, 7, 13, 25, 15, 5, 7, 27, 3, 3, 31, 21, 41, 9, 19, 5, 23, 5, 13, 17, 11, 5, 15, 9, 29, 15, 11, 17, 11, 19, 55, 5, 5, 9, 13, 37, 11, 9, 3, 29, 7, 7, 17, 41, 25, 57, 19, 5, 33, 19, 17, 9, 9, 15, 5, 7, 9, 3, 5, 19, 17, 5, 11, 23, 7, 27, 23, 19, 29, 13, 7, 9, 63, 11, 13, 3, 9, 15, 21, 13, 3, 3, 21, 41, 9, 17, 5, 9, 19, 23, 3, 31, 3, 11, 3, 19, 17, 13, 15, 25, 25, 5, 17, 9, 9, 9, 9, 13, 3, 3, 5, 9, 19, 31, 15, 53, 41, 9, 39, 3, 27, 3, 9, 15, 37, 7, 17, 5, 31, 15, 27, 17, 13, 5, 3, 17, 3, 15, 7, 9, 13, 9, 43, 5, 11, 7, 9, 15, 17, 15, 9, 37, 3, 23, 9, 21, 9, 21, 7, 5, 9, 7, 11, 57, 19, 39, 7, 29, 17, 5, 19, 25, 7, 7, 7, 17, 3, 3, 9, 3, 13, 13, 5, 5, 91, 35, 9, 19, 11, 3, 15, 35, 11, 11, 19, 37, 15, 13, 7, 3, 7, 9, 5, 9, 3, 9, 3, 19, 53, 13, 13, 5, 13, 7, 5, 9, 5, 13, 19, 5, 15, 5, 37, 29, 9, 3, 5, 15, 15, 25, 23, 5, 37, 21, 35, 21, 17, 25, 3, 7, 37, 9, 23, 9, 7, 11, 5, 7, 9, 3, 27, 7, 7, 5, 19, 17, 11, 3, 9, 7, 9, 27, 27, 11, 25, 13, 11, 3, 9, 3, 3, 13, 21, 5, 9, 3, 5, 15, 5, 19, 35, 7, 29, 19, 11, 5, 9, 7, 43, 29, 11, 11, 9, 13, 15, 7, 3, 17, 9, 5, 15, 21, 47, 5, 11, 5, 3, 47, 9, 3, 13, 9, 5, 3, 5, 25, 19, 49, 19, 17, 13, 29, 21, 5, 15, 15, 5, 17, 35, 3, 17, 23, 3, 9, 15, 5, 13, 15, 13, 3, 23, 21, 3, 41, 5, 9, 11, 57, 9, 3, 5, 63, 17, 35, 13, 5, 3, 17, 5, 13, 19, 15, 13, 19, 15, 7, 33, 7, 11, 3, 11, 45, 19, 9, 21, 17, 41, 19, 9, 9, 17, 25, 9, 29, 21, 13, 9, 23, 3, 25, 3, 13, 21, 9, 5, 11, 5, 7, 23, 5, 23, 5, 13, 15, 15, 7, 7, 9, 21, 31, 45, 7, 15, 13, 5, 3, 7, 11, 43, 19, 3, 37, 5, 35, 17, 9, 7, 3, 5, 3, 5, 13, 3, 5, 13, 11, 15, 5, 25, 15, 21, 19, 11, 5, 13, 3, 25, 23, 19, 17, 35, 27, 5, 37, 19, 13, 53, 39, 21, 15, 3, 9, 21, 3, 5, 15, 3, 41, 3, 21, 17, 5, 3, 3, 31, 3, 25, 23, 5, 9, 7, 23, 15, 25, 13, 9, 13, 7, 39, 11, 31, 7, 13, 7, 53, 7, 23, 9, 3, 21, 9, 7, 13, 3, 21, 7, 5, 15, 3, 17, 3, 47, 13, 9, 17, 3, 11, 3, 15, 25, 13, 25, 27, 47, 11, 3, 67, 15, 35, 61, 43, 41, 7, 5, 11, 9, 7, 7, 7, 9, 7, 3, 15, 19, 31, 15, 5, 3, 49, 7, 11, 63, 11, 5, 23, 13, 5, 3, 85, 15, 3, 25, 35, 11, 91, 11, 5, 17, 3, 3, 9, 17, 73, 15, 5, 21, 21, 5, 15, 15, 13, 3, 29, 13, 39, 45, 69, 13, 3, 7, 13, 11, 55, 21, 5, 7, 15, 33, 41, 7, 5, 19, 19, 7, 17, 69, 29, 11, 7, 5, 9, 39, 15, 7, 9, 5, 9, 7, 3, 17, 39, 61, 5, 3, 15, 9, 27, 5, 23, 11, 3, 3, 3, 21, 7, 7, 9, 35, 7, 5, 17, 35, 29, 11, 27, 13, 7, 5, 19, 17, 11, 29, 3, 5, 15, 11, 7, 19, 13, 17, 5, 5, 7, 7, 25, 37, 9, 5, 9, 23, 17, 11, 11, 3, 15, 21, 33, 9, 11, 7, 5, 13, 11, 11, 5, 39, 5, 19, 23, 9, 3, 11, 33, 9, 11, 5, 5, 33, 3, 9, 23, 11, 7, 33, 31, 3, 55, 13, 15, 35, 9, 5, 5, 65, 3, 3, 29, 7, 15, 11, 27, 5, 9, 5, 3, 3, 5, 3, 3, 7, 31, 7, 27, 19, 15, 3, 13, 33, 29, 25, 39, 9, 11, 21, 11, 53, 49, 7, 21, 19, 17, 55, 9, 17, 15, 11, 7, 11, 9, 45, 67, 9, 5, 5, 3, 7, 11, 5, 11, 5, 3, 23, 5, 25, 7, 3, 7, 3, 21, 11, 11, 7, 33, 3, 27, 5, 11, 11, 5, 3, 7, 15, 11, 51, 9, 29, 19, 7, 17, 49, 39, 39, 21, 7, 5, 9, 61, 31, 3, 19, 9, 19, 5, 49, 21, 15, 9, 3, 11, 41, 37, 7, 21, 9, 5, 35, 7, 15, 21, 23, 15, 3, 25, 35, 41, 5, 43, 9, 41, 19, 7, 7, 31, 3, 3, 3, 9, 7, 69, 29, 7, 21, 23, 7, 5, 13, 35, 3, 3, 9, 25, 5, 27, 23, 9, 11, 83, 13, 25, 3, 9, 25, 7, 77, 5, 19, 15, 9, 23, 13, 7, 5, 3, 15, 37, 5, 11, 7, 19, 17, 7, 17, 19, 37, 5, 7, 9, 13, 13, 5, 15, 21, 17, 13, 31, 5, 45, 3, 23, 55, 3, 29, 13, 7, 11, 17, 27, 11, 25, 19, 15, 35, 17, 5, 43, 15, 5, 15, 3, 25, 13, 21, 11, 13, 3, 5, 3, 7, 13, 23, 5, 7, 37, 11, 13, 7, 25, 9, 3, 9, 21, 9, 49, 11, 19, 13, 9, 7, 9, 3, 3, 3, 15, 21, 25, 13, 5, 13, 7, 5, 17, 5, 3, 5, 13, 29, 5, 7, 3, 5, 45, 11, 11, 5, 5, 5, 9, 51, 15, 5, 5, 3, 3, 15, 25, 15, 11, 7, 45, 11, 15, 5, 15, 15, 5, 11, 5, 23, 9, 5, 3, 3, 21, 13, 13, 37, 35, 39, 9, 23, 11, 77, 11, 3, 5, 7, 27, 5, 17, 5, 15, 3, 7, 5, 5, 39, 21, 19, 7, 19, 29, 9, 15, 9, 21, 3, 15, 11, 7, 31, 11, 7, 11, 21, 19, 3, 15, 13, 7, 3, 3, 5, 21, 5, 5, 3, 33, 3, 11, 3, 7, 7, 7, 51, 33, 19, 17, 5, 3, 3, 5, 5, 7, 11, 3, 21, 19, 5, 31, 27, 3, 7, 3, 7, 37, 15, 37, 11, 3, 7, 7, 19, 33, 11, 5, 21, 13, 3, 65, 15, 3, 5, 31, 7, 25, 15, 29, 17, 17, 17, 9, 15, 15, 43, 23, 41, 13, 7, 7, 17, 35, 9, 9, 17, 19, 25, 11, 43, 15, 15, 39, 31, 15, 13, 23, 9, 11, 3, 15, 3, 19, 9, 3, 9, 31, 7, 13, 5, 7, 27, 17, 9, 29, 17, 13, 5, 5, 7, 41, 7, 3, 67, 13, 5, 47, 33, 21, 31, 33, 5, 15, 9, 3, 15, 29, 17, 35, 13, 13, 7, 11, 23, 3, 23, 15, 5, 53, 25, 3, 35, 7, 17, 15, 9, 41, 25, 23, 11, 5, 5, 13, 5, 29, 15, 7, 21, 5, 15, 11, 9, 19, 39, 33, 7, 3, 7, 5, 49, 11, 5, 21, 5, 5, 13, 17, 13, 7, 25, 13, 3, 3, 17, 27, 13, 9, 7, 9, 17, 13, 3, 7, 15, 49, 7, 9, 17, 7, 17, 33, 5, 21, 9, 25, 3, 7, 33, 17, 5, 9, 31, 3, 9, 15, 3, 13, 17, 9, 13, 3, 3, 29, 5, 21, 5, 7, 7, 25, 7, 37, 7, 17, 21, 3, 23, 5, 5, 17, 13, 5, 21, 23, 3, 21, 15, 19, 13, 13, 11, 3, 17, 3, 5, 13, 17, 7, 17, 9, 3, 3, 5, 33, 3, 13, 35, 5, 7, 13, 11, 13, 23, 21, 5, 9, 17, 11, 15, 23, 9, 15, 33, 9, 13, 9, 5, 5, 3, 3, 35, 17, 9, 17, 11, 19, 3, 5, 9, 7, 7, 11, 5, 3, 7, 9, 21, 3, 17, 15, 23, 15, 27, 13, 9, 21, 23, 21, 11, 5, 25, 29, 21, 7, 27, 7, 17, 11, 9, 19, 21, 9, 5, 9, 5, 5, 5, 7, 3, 5, 37, 19, 17, 5, 9, 13, 17, 17, 7, 21, 5, 3, 7, 21, 33, 15, 13, 5, 83, 23, 19, 13, 7, 7, 11, 3, 21, 3, 29, 19, 3, 13, 3, 7, 23, 29, 33, 21, 15, 19, 19, 5, 9, 17, 3, 17, 9, 7, 5, 3, 27, 23, 13, 39, 15, 15, 5, 35, 21, 27, 11, 23, 11, 5, 7, 11, 11, 7, 5, 5, 13, 33, 9, 21, 7, 5, 53, 9, 7, 27, 7, 5, 11, 15, 3, 3, 25, 21, 7, 33, 39, 25, 7, 13, 21, 5, 15, 21, 57, 5, 7, 13, 15, 7, 9, 11, 5, 41, 13, 5, 23, 11, 9, 3, 9, 13, 11, 9, 5, 9, 15, 23, 3, 5, 3, 17, 33, 13, 5, 7, 33, 7, 7, 19, 3, 13, 11, 11, 11, 3, 11, 7, 5, 41, 5, 3, 9, 13, 19, 21, 11, 13, 11, 5, 5, 27, 3, 7, 7, 9, 27, 11, 17, 11, 7, 13, 7, 11, 5, 21, 21, 25, 7, 5, 3, 3, 3, 9, 33, 11, 3, 31, 13, 27, 19, 7, 9, 5, 13, 3, 27, 31, 13, 11, 29, 13, 13, 3, 29, 29, 17, 87, 7, 19, 7, 11, 7, 11, 7, 9, 25, 33, 17, 13, 9, 11, 5, 5, 9, 9, 35, 5, 11, 3, 5, 13, 23, 7, 7])\n"
     ]
    },
    {
     "data": {
      "image/png": "[encoded data removed]",
      "text/plain": [
       "<Figure size 432x288 with 1 Axes>"
      ]
     },
     "metadata": {
      "needs_background": "light"
     },
     "output_type": "display_data"
    }
   ],
   "source": [
    "import random\n",
    "import matplotlib.pyplot as plt\n",
    "import numpy as np\n",
    "\n",
    "nsteps = 100\n",
    "nwalks = 5000\n",
    "draws = np.random.randint(0, 2, size=(nwalks, nsteps))\n",
    "steps = np.where(draws > 0, 1, -1)\n",
    "walks = steps.cumsum(1)\n",
    "#print(walks[0:5])\n",
    "falls = np.abs(walks) <= 3\n",
    "#print(falls[:5])\n",
    "rows, columns = np.where(falls == False)\n",
    "#print(rows)\n",
    "#print(columns)\n",
    "\n",
    "# To find the first index of False which indicates the bug has fell out\n",
    "firstIndexDict = {}\n",
    "for r,c in zip(rows, columns):\n",
    "    if r not in firstIndexDict.keys():\n",
    "        firstIndexDict[r] = c\n",
    "        \n",
    "#print(firstIndexDict.values())\n",
    "plt.hist(firstIndexDict.values(), density=False, bins=100)  \n",
    "plt.ylabel('Probability')\n",
    "plt.xlabel('Data');\n"
   ]
  },
  {
   "cell_type": "markdown",
   "metadata": {},
   "source": [
    "# Exercise five\n",
    "\n",
    "Investigate what sorting algorithms are used by numpy.sort() function and write a short summary (about 200words) of which you would use for datasets with particular features, such as size, and why?"
   ]
  },
  {
   "cell_type": "markdown",
   "metadata": {},
   "source": []
  }
 ],
 "metadata": {
  "kernelspec": {
   "display_name": "Python 3",
   "language": "python",
   "name": "python3"
  },
  "language_info": {
   "codemirror_mode": {
    "name": "ipython",
    "version": 3
   },
   "file_extension": ".py",
   "mimetype": "text/x-python",
   "name": "python",
   "nbconvert_exporter": "python",
   "pygments_lexer": "ipython3",
   "version": "3.7.6"
  }
 },
 "nbformat": 4,
 "nbformat_minor": 4
}
