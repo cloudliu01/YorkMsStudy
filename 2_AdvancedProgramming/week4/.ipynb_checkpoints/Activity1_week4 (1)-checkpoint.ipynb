{
 "cells": [
  {
   "cell_type": "code",
   "execution_count": 225,
   "metadata": {},
   "outputs": [
    {
     "name": "stdout",
     "output_type": "stream",
     "text": [
      "[[  5  85  83  22  39  26  73  77  97  75  33]\n",
      " [  1  46  39  53  67  19  87   3  84  58  26]\n",
      " [ 83  81  31  96  13   3  58  32 100 100  96]\n",
      " [ 71   2  63  84  85   5  67  35  76  77  76]\n",
      " [ 79  67  44 100  89  71  27  46  45  13  32]\n",
      " [100  27  23  76  53  86   2  59  30  52   2]\n",
      " [ 37  43  10  16  77  40  62   4  22  64  15]\n",
      " [ 97  61   8  99  67  42  59   7  86  42  21]\n",
      " [ 80  93  76  46  46  35  57  70  93  36  86]\n",
      " [ 25  23  89  58  89  52  21  65  52  25  45]]\n",
      "\n",
      "\n",
      "[[  5  77  33]\n",
      " [  1   3  26]\n",
      " [ 83  32  96]\n",
      " [ 71  35  76]\n",
      " [ 79  46  32]\n",
      " [100  59   2]\n",
      " [ 37   4  15]\n",
      " [ 97   7  21]\n",
      " [ 80  70  86]\n",
      " [ 25  65  45]]\n",
      "\n"
     ]
    },
    {
     "data": {
      "text/plain": [
       "array([[ 83,  77,  97,  75],\n",
       "       [ 39,   3,  84,  58],\n",
       "       [ 31,  32, 100, 100],\n",
       "       [ 63,  35,  76,  77],\n",
       "       [ 44,  46,  45,  13],\n",
       "       [ 23,  59,  30,  52],\n",
       "       [ 10,   4,  22,  64],\n",
       "       [  8,   7,  86,  42],\n",
       "       [ 76,  70,  93,  36],\n",
       "       [ 89,  65,  52,  25]], dtype=int64)"
      ]
     },
     "execution_count": 225,
     "metadata": {},
     "output_type": "execute_result"
    }
   ],
   "source": [
    "#Exercise 2\n",
    "\n",
    "import pandas as pd\n",
    "df= pd.read_csv(\"C:/Users/elena/OneDrive/Υπολογιστής/york/Advanced Programming/Week 4/RandomeValues.csv\")\n",
    "a=np.asarray(df)\n",
    "\n",
    "\n",
    "\n",
    "print(a)\n",
    "print()\n",
    "#All the data in rows, 5,7 and 9\n",
    "a[[5, 7, 9], :]\n",
    "print()\n",
    "#All the data in columns 0, 7, 10.\n",
    "print(a[:,[0,7,10]])\n",
    "print()\n",
    "\n",
    "#The data in columns 1 to 3 (exclusively), from rows 7 to 9 (inclusively).\n",
    "a[:,[2,7,8,9]]"
   ]
  },
  {
   "cell_type": "code",
   "execution_count": 226,
   "metadata": {},
   "outputs": [
    {
     "name": "stdout",
     "output_type": "stream",
     "text": [
      "[[0.46418822 0.94485973 0.41535761 ... 0.80975387 0.14309711 0.91151185]\n",
      " [0.08540812 0.4374224  0.17241913 ... 0.8310271  0.06588914 0.85938061]\n",
      " [0.03101046 0.22088607 0.90621825 ... 0.31759023 0.83210844 0.09108727]\n",
      " ...\n",
      " [0.75485914 0.77832434 0.85611995 ... 0.09513555 0.6936556  0.83052348]\n",
      " [0.46007902 0.41931071 0.62477905 ... 0.33165604 0.21408273 0.23202796]\n",
      " [0.61956674 0.85923614 0.50151886 ... 0.1316869  0.2812583  0.05008792]]\n",
      "[[0.6813136  0.97203896 0.64448244 ... 0.89986325 0.37828179 0.95473129]\n",
      " [0.29224667 0.66137917 0.41523383 ... 0.91160688 0.2566888  0.92702783]\n",
      " [0.17609788 0.46998518 0.95195496 ... 0.56355144 0.91219978 0.30180667]\n",
      " ...\n",
      " [0.8688263  0.88222692 0.9252675  ... 0.30844051 0.83285989 0.91133061]\n",
      " [0.67829125 0.64754205 0.79042966 ... 0.57589586 0.46269075 0.48169281]\n",
      " [0.78712562 0.92694991 0.70817996 ... 0.36288689 0.53033791 0.22380331]]\n"
     ]
    },
    {
     "data": {
      "text/plain": [
       "6709.670038190475"
      ]
     },
     "execution_count": 226,
     "metadata": {},
     "output_type": "execute_result"
    }
   ],
   "source": [
    "#Exercise 1\n",
    "\n",
    "import numpy as np\n",
    "from numpy import random\n",
    "\n",
    "x = random.rand(100,100)\n",
    "print(x)\n",
    "y=np.sqrt(x)\n",
    "print(y)\n",
    "\n",
    "w=np.sum(y)\n",
    "w"
   ]
  },
  {
   "cell_type": "code",
   "execution_count": 227,
   "metadata": {},
   "outputs": [
    {
     "data": {
      "text/plain": [
       "array(['L3', 'L1', 'P2', 'N6', 'N4', 'B8'], dtype=object)"
      ]
     },
     "execution_count": 227,
     "metadata": {},
     "output_type": "execute_result"
    }
   ],
   "source": [
    "#Exercise 3\n",
    "\n",
    "\n",
    "df= pd.read_csv(\"C:/Users/elena/OneDrive/Υπολογιστής/york/Advanced Programming/Week 4/SalesData.csv\")\n",
    "rows= df['Unnamed: 0'].to_numpy()\n",
    "rows\n",
    "\n",
    "\n",
    "\n"
   ]
  },
  {
   "cell_type": "code",
   "execution_count": 228,
   "metadata": {},
   "outputs": [
    {
     "data": {
      "text/plain": [
       "array(['Unnamed: 0', 'Apr-18', 'May-18', 'Jun-18', 'Jul-18', 'Aug-18',\n",
       "       'Sep-18', 'Oct-18', 'Nov-18', 'Dec-18', 'Jan-19', 'Feb-19',\n",
       "       'Mar-19'], dtype=object)"
      ]
     },
     "execution_count": 228,
     "metadata": {},
     "output_type": "execute_result"
    }
   ],
   "source": [
    "columns=np.asarray(df.columns)\n",
    "columns"
   ]
  },
  {
   "cell_type": "code",
   "execution_count": 229,
   "metadata": {},
   "outputs": [
    {
     "data": {
      "text/plain": [
       "array([[390, 345, 379, 353, 365, 326, 363, 459, 539, 474, 340, 343],\n",
       "       [392, 377, 347, 395, 330, 332, 340, 446, 573, 464, 223, 216],\n",
       "       [250, 270, 300, 398, 376, 382, 306, 489, 552, 488, 298, 269],\n",
       "       [460, 480, 450, 310, 392, 383, 314, 402, 640, 495, 215, 243],\n",
       "       [460, 480, 450, 387, 388, 320, 337, 478, 676, 408, 338, 263],\n",
       "       [470, 510, 360, 472, 423, 385, 353, 464, 598, 419, 459, 659]],\n",
       "      dtype=int64)"
      ]
     },
     "execution_count": 229,
     "metadata": {},
     "output_type": "execute_result"
    }
   ],
   "source": [
    "cols= np.asarray(df.columns)\n",
    "values = df[(cols[1:])].to_numpy()\n",
    "values"
   ]
  },
  {
   "cell_type": "code",
   "execution_count": 230,
   "metadata": {},
   "outputs": [
    {
     "name": "stdout",
     "output_type": "stream",
     "text": [
      "[[353 326 363]\n",
      " [395 332 340]\n",
      " [398 382 306]\n",
      " [310 383 314]\n",
      " [387 320 337]\n",
      " [472 385 353]]\n",
      "[2315]\n"
     ]
    },
    {
     "data": {
      "text/plain": [
       "385.8333333333333"
      ]
     },
     "execution_count": 230,
     "metadata": {},
     "output_type": "execute_result"
    }
   ],
   "source": [
    "\n",
    "x=values[:,[3,5,6]]\n",
    "print(x)\n",
    "\n",
    "\n",
    "\n",
    "#July total,mean\n",
    "\n",
    "july_total=sum(values[:,[3]])\n",
    "print(july_total)\n",
    "july_mean=values[:,[3]].mean()\n",
    "july_mean\n"
   ]
  },
  {
   "cell_type": "code",
   "execution_count": 231,
   "metadata": {},
   "outputs": [
    {
     "name": "stdout",
     "output_type": "stream",
     "text": [
      "[2274]\n"
     ]
    },
    {
     "data": {
      "text/plain": [
       "379.0"
      ]
     },
     "execution_count": 231,
     "metadata": {},
     "output_type": "execute_result"
    }
   ],
   "source": [
    "#August total,mean\n",
    "\n",
    "aug_total=sum(values[:,[4]])\n",
    "print(aug_total)\n",
    "aug_mean=values[:,[4]].mean()\n",
    "aug_mean\n"
   ]
  },
  {
   "cell_type": "code",
   "execution_count": 232,
   "metadata": {},
   "outputs": [
    {
     "name": "stdout",
     "output_type": "stream",
     "text": [
      "[2128]\n"
     ]
    },
    {
     "data": {
      "text/plain": [
       "354.6666666666667"
      ]
     },
     "execution_count": 232,
     "metadata": {},
     "output_type": "execute_result"
    }
   ],
   "source": [
    "#September total,mean\n",
    "\n",
    "sep_total=sum(values[:,[5]])\n",
    "print(sep_total)\n",
    "sep_mean=values[:,[5]].mean()\n",
    "sep_mean\n"
   ]
  },
  {
   "cell_type": "code",
   "execution_count": 233,
   "metadata": {},
   "outputs": [
    {
     "name": "stdout",
     "output_type": "stream",
     "text": [
      "[390 345 379 363 459 539]\n",
      "The total for the 1st quarter for L1 is:  1114\n",
      "The mean for the 1st quarter for L1 is:  371.3333333333333\n",
      "The total for the 3rd quarter for L1 is:  1361\n",
      "The mean for the 3rd quarter for L1 is:  453.6666666666667\n"
     ]
    }
   ],
   "source": [
    "#All the sales for stores L3 and L1, for the first and third quarter calculating the total and the mean for each quarter for each store.\n",
    "L1=values[0,[0,1,2,6,7,8]]\n",
    "print(L1)\n",
    "\n",
    "#for L1 total,mean for 1st quarter\n",
    "L1_1rst_total=sum(values[0,:3])\n",
    "print(\"The total for the 1st quarter for L1 is: \",L1_1rst_total)\n",
    "\n",
    "L1_1rst_mean=values[0,:3].mean()\n",
    "print(\"The mean for the 1st quarter for L1 is: \",L1_1rst_mean)\n",
    "\n",
    "#for L1 total,mean for 3rd quarter\n",
    "\n",
    "L1_3rd_total=sum(values[0,[6,7,8]])\n",
    "print(\"The total for the 3rd quarter for L1 is: \",L1_3rd_total)\n",
    "\n",
    "L1_3rd_mean=values[0,[6,7,8]].mean()\n",
    "print(\"The mean for the 3rd quarter for L1 is: \",L1_3rd_mean)\n",
    "\n"
   ]
  },
  {
   "cell_type": "code",
   "execution_count": 234,
   "metadata": {},
   "outputs": [
    {
     "name": "stdout",
     "output_type": "stream",
     "text": [
      "[392 377 347 340 446 573]\n",
      "The total for the 1st quarter for L3 is:  1116\n",
      "The mean for the 1st quarter for L3 is:  372.0\n",
      "The total for the 3rd quarter for L3 is:  1359\n",
      "The mean for the 3rd quarter for L3 is:  453.0\n"
     ]
    }
   ],
   "source": [
    "#L3\n",
    "L3=values[1,[0,1,2,6,7,8]]\n",
    "print(L3)\n",
    "\n",
    "#for L3 total,mean for 1st quarter\n",
    "L3_1rst_total=sum(values[1,:3])\n",
    "print(\"The total for the 1st quarter for L3 is: \",L3_1rst_total)\n",
    "\n",
    "L3_1st_mean=values[1,:3].mean()\n",
    "print(\"The mean for the 1st quarter for L3 is: \",L3_1st_mean)\n",
    "\n",
    "#for L3 total,mean for 3rd quarter\n",
    "\n",
    "L3_3rd_total=sum(values[1,[6,7,8]])\n",
    "print(\"The total for the 3rd quarter for L3 is: \",L3_3rd_total)\n",
    "\n",
    "L3_3rd_mean=values[1,[6,7,8]].mean()\n",
    "print(\"The mean for the 3rd quarter for L3 is: \",L3_3rd_mean)\n"
   ]
  },
  {
   "cell_type": "code",
   "execution_count": 235,
   "metadata": {},
   "outputs": [
    {
     "data": {
      "text/plain": [
       "array([['Apr-18', 'May-18', 'Jun-18', 'Jul-18', 'Aug-18', 'Sep-18',\n",
       "        'Oct-18', 'Nov-18', 'Dec-18', 'Jan-19', 'Feb-19', 'Mar-19'],\n",
       "       [False, False, False, True, True, True, True, False, False, False,\n",
       "        True, True]], dtype=object)"
      ]
     },
     "execution_count": 235,
     "metadata": {},
     "output_type": "execute_result"
    }
   ],
   "source": [
    "#N6\n",
    "\n",
    "N6_months=columns[1:13]\n",
    "N6_months\n",
    "N6_sales=values[3,:12]\n",
    "x=N6_sales<400\n",
    "N6_result = np.vstack((N6_months, x))\n",
    "N6_result"
   ]
  },
  {
   "cell_type": "code",
   "execution_count": 236,
   "metadata": {},
   "outputs": [
    {
     "data": {
      "text/plain": [
       "array([['Apr-18', 'May-18', 'Jun-18', 'Jul-18', 'Aug-18', 'Sep-18',\n",
       "        'Oct-18', 'Nov-18', 'Dec-18', 'Jan-19', 'Feb-19', 'Mar-19'],\n",
       "       [False, False, False, True, True, True, True, False, False, False,\n",
       "        True, True]], dtype=object)"
      ]
     },
     "execution_count": 236,
     "metadata": {},
     "output_type": "execute_result"
    }
   ],
   "source": [
    "#N4\n",
    "\n",
    "N4_months=columns[1:13]\n",
    "N4_months\n",
    "N4_sales=values[4,:12]\n",
    "y=N4_sales<400\n",
    "N4_result = np.vstack((N4_months, y))\n",
    "N4_result"
   ]
  },
  {
   "cell_type": "code",
   "execution_count": 237,
   "metadata": {},
   "outputs": [
    {
     "data": {
      "text/plain": [
       "50.16"
      ]
     },
     "execution_count": 237,
     "metadata": {},
     "output_type": "execute_result"
    }
   ],
   "source": [
    "#Exercise 4\n",
    "import random\n",
    "\n",
    "niters=100\n",
    "nsteps=300\n",
    "\n",
    "draws=np.random.randint(0,2,size=(niters,nsteps))\n",
    "steps=np.where(draws>0,1,-1)\n",
    "walks=steps.cumsum(1)\n",
    "walks\n",
    "\n",
    "falls=(np.abs(walks)>=7).any(1)\n",
    "falls\n",
    "\n",
    "fall_times=(np.abs(walks[falls])>=7).argmax(1)  \n",
    "fall_times.mean()"
   ]
  },
  {
   "cell_type": "code",
   "execution_count": null,
   "metadata": {},
   "outputs": [],
   "source": [
    "\n",
    "\n",
    "\n"
   ]
  }
 ],
 "metadata": {
  "kernelspec": {
   "display_name": "Python 3",
   "language": "python",
   "name": "python3"
  },
  "language_info": {
   "codemirror_mode": {
    "name": "ipython",
    "version": 3
   },
   "file_extension": ".py",
   "mimetype": "text/x-python",
   "name": "python",
   "nbconvert_exporter": "python",
   "pygments_lexer": "ipython3",
   "version": "3.7.6"
  }
 },
 "nbformat": 4,
 "nbformat_minor": 4
}
